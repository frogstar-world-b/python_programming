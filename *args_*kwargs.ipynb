{
 "cells": [
  {
   "cell_type": "markdown",
   "metadata": {},
   "source": [
    "## On the usage of \\*args and  \\*kwargs\n",
    "\n",
    "Reference: http://book.pythontips.com/en/latest/index.html\n"
   ]
  },
  {
   "cell_type": "code",
   "execution_count": 2,
   "metadata": {
    "collapsed": true
   },
   "outputs": [],
   "source": [
    "import numpy as np\n",
    "import pandas as pd\n"
   ]
  },
  {
   "cell_type": "markdown",
   "metadata": {},
   "source": [
    "The single asterisk form of `*args` is used to send a non-keyworded variable-length argument list to the function.  It is worth noting that the asterisk (`*`) is the important element here, as the word args is the established conventional idiom, though it is not enforced by the language. With `*args` you can create more flexible code that accepts a varied amount of non-keyworded arguments within your function.\n",
    "\n",
    "The double asterisk form of `**kwargs` is used to pass a keyworded, variable-length argument dictionary to a function. Again, the two asterisks (`**`) are the important element here, as the word kwargs is conventionally used, though not enforced by the language."
   ]
  },
  {
   "cell_type": "code",
   "execution_count": 3,
   "metadata": {},
   "outputs": [
    {
     "name": "stdout",
     "output_type": "stream",
     "text": [
      "3\n",
      "10\n",
      "10\n"
     ]
    }
   ],
   "source": [
    "def sum_2vars(a, b):\n",
    "    print(a + b)\n",
    "\n",
    "def sum_all_vars1(*args):\n",
    "    s = 0\n",
    "    for arg in args:\n",
    "        s += arg\n",
    "    print(s)\n",
    "    \n",
    "def sum_all_vars2(*args):\n",
    "    print(sum(args)) \n",
    "    \n",
    "sum_2vars(1,2)\n",
    "sum_all_vars1(1,2,3,4)\n",
    "sum_all_vars2(1,2,3,4)\n"
   ]
  },
  {
   "cell_type": "code",
   "execution_count": 4,
   "metadata": {},
   "outputs": [
    {
     "name": "stdout",
     "output_type": "stream",
     "text": [
      "For key kwarg1, the value is hello\n",
      "For key kwarg2, the value is world\n",
      "For key kwarg3, the value is !\n",
      "{'kwarg1': 'hello', 'kwarg2': 'world', 'kwarg3': '!'}\n"
     ]
    }
   ],
   "source": [
    "def print_kwargs(**kwargs):\n",
    "    for key, value in kwargs.items(): \n",
    "        print('For key {}, the value is {}'.format(key, value))\n",
    "        \n",
    "def print_kwargs2(**kwargs):\n",
    "    print(kwargs)\n",
    "    \n",
    "print_kwargs(kwarg1 = 'hello', kwarg2 = 'world', kwarg3 = '!')\n",
    "print_kwargs2(kwarg1 = 'hello', kwarg2 = 'world', kwarg3 = '!')"
   ]
  },
  {
   "cell_type": "markdown",
   "metadata": {},
   "source": [
    "## pandas using apply"
   ]
  },
  {
   "cell_type": "code",
   "execution_count": 5,
   "metadata": {},
   "outputs": [
    {
     "data": {
      "text/plain": [
       "London      20\n",
       "New York    21\n",
       "Helsinki    12\n",
       "dtype: int64"
      ]
     },
     "execution_count": 5,
     "metadata": {},
     "output_type": "execute_result"
    }
   ],
   "source": [
    "series = pd.Series([20, 21, 12], index=['London','New York','Helsinki'])\n",
    "series"
   ]
  },
  {
   "cell_type": "code",
   "execution_count": 6,
   "metadata": {
    "collapsed": true
   },
   "outputs": [],
   "source": [
    "def subtract_custom_value(x, custom_value):\n",
    "    return(x-custom_value)"
   ]
  },
  {
   "cell_type": "code",
   "execution_count": 15,
   "metadata": {},
   "outputs": [
    {
     "name": "stdout",
     "output_type": "stream",
     "text": [
      "London      15\n",
      "New York    16\n",
      "Helsinki     7\n",
      "dtype: int64\n"
     ]
    }
   ],
   "source": [
    "s1 = series.apply(subtract_custom_value, args=(5,)) \n",
    "assert all(s1 == series.apply(subtract_custom_value, custom_value=5))\n",
    "print(s1)"
   ]
  },
  {
   "cell_type": "code",
   "execution_count": 55,
   "metadata": {
    "collapsed": true
   },
   "outputs": [],
   "source": [
    "def add_custom_values(x, **kwargs):\n",
    "    for month in kwargs:\n",
    "        x+=kwargs[month]\n",
    "    return x"
   ]
  },
  {
   "cell_type": "code",
   "execution_count": 59,
   "metadata": {},
   "outputs": [
    {
     "data": {
      "text/plain": [
       "London      80\n",
       "New York    81\n",
       "Helsinki    72\n",
       "dtype: int64"
      ]
     },
     "execution_count": 59,
     "metadata": {},
     "output_type": "execute_result"
    }
   ],
   "source": [
    "series.apply(add_custom_values, june=10, july=20, august=30)"
   ]
  }
 ],
 "metadata": {
  "kernelspec": {
   "display_name": "Python 3",
   "language": "python",
   "name": "python3"
  },
  "language_info": {
   "codemirror_mode": {
    "name": "ipython",
    "version": 3
   },
   "file_extension": ".py",
   "mimetype": "text/x-python",
   "name": "python",
   "nbconvert_exporter": "python",
   "pygments_lexer": "ipython3",
   "version": "3.6.3"
  }
 },
 "nbformat": 4,
 "nbformat_minor": 2
}
